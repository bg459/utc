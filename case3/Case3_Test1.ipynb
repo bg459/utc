{
 "cells": [
  {
   "cell_type": "markdown",
   "id": "2510df80",
   "metadata": {},
   "source": [
    "# Case 3 - Method Testing\n",
    "\n",
    "Here I provide a list of (possibly) usable functions for the third test case problem (portfolio allocation)."
   ]
  },
  {
   "cell_type": "code",
   "execution_count": 36,
   "id": "dfcdd012",
   "metadata": {},
   "outputs": [],
   "source": [
    "import numpy as np\n",
    "from scipy.optimize import minimize, NonlinearConstraint\n",
    "import matplotlib.pyplot as plt\n",
    "%matplotlib inline\n",
    "\n",
    "from tqdm import tqdm\n",
    "import pandas as pd\n",
    "\n",
    "import os\n",
    "assert os.path.exists(\"Acutal Testing Data.csv\")\n",
    "\n",
    "# can't use sklearn rip, gotta self implement\n",
    "def pca(vec, comp=-1):\n",
    "    \"\"\"Perform PCA, output components + explained variance %\"\"\"\n",
    "    c_vec = vec - np.mean(vec, axis=0)\n",
    "    cov = np.cov(c_vec) / vec.shape[0]\n",
    "    v, w = np.linalg.eig(cov)\n",
    "    idx = v.argsort()[::-1] # Sort descending and get sorted indices\n",
    "    v = v[idx]\n",
    "    w = w[:,idx]\n",
    "    return w[:, :comp], np.sum(np.square(v[:comp]))/np.sum(np.square(v))"
   ]
  },
  {
   "cell_type": "code",
   "execution_count": 2,
   "id": "bcfac2ad",
   "metadata": {},
   "outputs": [],
   "source": [
    "# (Hyper)parameter dict structure\n",
    "# this is used to streamline training / searching as well as make function defining more simple\n",
    "\n",
    "example_params = {\n",
    "    \"lookback\" : 3,\n",
    "    \"EMA_eps\" : 0.01,\n",
    "    \"alpha_w\" : [0.3, 0.7], # weights for self preds and \"pro\" preds\n",
    "    \"pca_count\" : 1,\n",
    "    \"var_penalty\" : 1,\n",
    "    \"var_cap\" : 0.01,\n",
    "}"
   ]
  },
  {
   "cell_type": "markdown",
   "id": "f7b845f7",
   "metadata": {},
   "source": [
    "### Function List\n",
    "\n",
    "Functions will need to pass a parameter dict of the above form."
   ]
  },
  {
   "cell_type": "code",
   "execution_count": 125,
   "id": "b89de955",
   "metadata": {},
   "outputs": [],
   "source": [
    "# Obtain returns and forecasted returns from I/O\n",
    "def obtainReturns():\n",
    "    \"\"\"\n",
    "    Return array structures, all_rets, and all_pred_rets\n",
    "    \"\"\"\n",
    "    atdf = pd.read_csv(\"Acutal Testing Data.csv\")\n",
    "    ptdf1 = pd.read_csv(\"Predicted Testing Data Analyst 1.csv\")\n",
    "    ptdf2 = pd.read_csv(\"Predicted Testing Data Analyst 1.csv\")\n",
    "    ptdf3 = pd.read_csv(\"Predicted Testing Data Analyst 1.csv\")\n",
    "    idx = ['A', 'B', 'C', 'D', 'E', 'F', 'G', 'H', 'I']\n",
    "    price = np.array([list(atdf[idx[i]]) for i in range(len(idx))])\n",
    "    price1 = np.array([list(ptdf1[idx[i]]) for i in range(len(idx))])\n",
    "    price2 = np.array([list(ptdf2[idx[i]]) for i in range(len(idx))])\n",
    "    price3 = np.array([list(ptdf3[idx[i]]) for i in range(len(idx))])\n",
    "    n = atdf.shape[0]\n",
    "    all_rets = (price[:, 1:] - price[:, :-1]) / price[:, :-1]\n",
    "    all_pred_rets1 = (price1[:, 1:] - price1[:, :-1]) / price1[:, :-1]\n",
    "    all_pred_rets2 = (price2[:, 1:] - price2[:, :-1]) / price2[:, :-1]\n",
    "    all_pred_rets3 = (price3[:, 1:] - price3[:, :-1]) / price3[:, :-1]\n",
    "    return all_rets, all_pred_rets1, all_pred_rets2, all_pred_rets3\n",
    "\n",
    "# Generate alphas from features and hyperparameters\n",
    "# Considered methods include EMA on a lookback period\n",
    "def getAlphas(rets, pred_rets, EMA_eps=0.01, alpha_w=[0.5, 0.5], **params):\n",
    "    \"\"\"\n",
    "    Returns an array of alphas, same size as input rets.\n",
    "    pred_rets should be a singular array of size # assets.\n",
    "    Also returns cov of initial alphas = pred. returns\n",
    "    \"\"\"\n",
    "    n = rets.shape[1]\n",
    "    per_weights = np.power(1.000 - EMA_eps, np.arange(n)[::-1])\n",
    "    EMA_rets = rets * np.expand_dims(per_weights, 0)\n",
    "    # perform EMA on given rets\n",
    "    self_alphas = EMA_rets.sum(axis=1)\n",
    "    weighted_alphas = self_alphas*alpha_w[0] + pred_rets*alpha_w[1]\n",
    "    return weighted_alphas, np.cov(rets)\n",
    "    \n",
    "# Generate market betas using PCA on alphas\n",
    "# We use these to try to control the market neutrality of the opt\n",
    "def getBetas(rets, pca_count=1, **params):\n",
    "    \"\"\"\n",
    "    Returns an array of betas with size = # assets in universe\n",
    "    \"\"\"\n",
    "    # standardize returns\n",
    "    stan_rets = rets - np.mean(rets, axis=1, keepdims=True)\n",
    "    stan_rets = stan_rets / np.std(stan_rets, axis=1, keepdims=True)\n",
    "    betas, expl_var = pca(stan_rets, pca_count)\n",
    "    betas = betas / np.sum(np.abs(betas))\n",
    "    return betas\n",
    "\n",
    "# Define utility function to optimize for weights\n",
    "def util_func(w, alphas, cov, var_penalty):\n",
    "    ER = np.sum(w*alphas)\n",
    "    var_factor = w.T @ cov @ w\n",
    "    \n",
    "    # change this to / to test other expression\n",
    "    return ER - (var_penalty*var_factor)\n",
    "\n",
    "# Solve optimization problem from features and hyperparameters\n",
    "def solveWeights(rets, pred_rets, var_penalty=1, var_cap=0.001, **params):\n",
    "    \"\"\"\n",
    "    Returns an array of weights with size = # assets in universe.\n",
    "    Also returns expected variance\n",
    "    \"\"\"\n",
    "    m = rets.shape[0]\n",
    "    alphas, cov_mat = getAlphas(rets, pred_rets, **params)\n",
    "    betas = getBetas(rets, **params)\n",
    "    \n",
    "    # define optimization problem using scipy\n",
    "    func = lambda x: util_func(x, alphas, cov_mat, var_penalty) # utility\n",
    "    init_x = [0.5/m for i in range(m)]\n",
    "    bnds = ((0, 1),) * m # nonnegative elementwise bounds on weights\n",
    "    portfolio_var = lambda x: x.T @ cov_mat @ x # portfolio variance\n",
    "    cum_weights = lambda x: np.sum(np.abs(x))\n",
    "    cum_betas = lambda x: np.sum(x*betas)\n",
    "    cons = (\n",
    "        NonlinearConstraint(cum_betas, 0, 0), # market neutrality\n",
    "        NonlinearConstraint(cum_weights, 0, 1, keep_feasible=True), # weight allocation\n",
    "        NonlinearConstraint(portfolio_var, 0, var_cap), # hard variance cap\n",
    "    )\n",
    "    res = minimize(func, init_x, bounds=bnds, constraints=cons)\n",
    "    \n",
    "    weights = res.x\n",
    "    return weights, weights.T @ cov_mat @ weights\n",
    "\n",
    "# Overall timestepping process (for backtesting?)\n",
    "def execute(max_time, all_rets, all_pred_rets, lookback=3, **params):\n",
    "    \"\"\"\n",
    "    Returns a dataframe containing daily portfolio returns and\n",
    "    overall Sharpe\n",
    "    \"\"\"\n",
    "    periods = min(max_time, all_rets.shape[1])\n",
    "    net_value = 1.0\n",
    "    backtest_res = []\n",
    "    \n",
    "    # period - 1 since we do not make decision on last day \n",
    "    # nothing to compare forecast to\n",
    "    for i in tqdm(range(lookback, periods - 1)):\n",
    "        # obtain lookback data and current day\n",
    "        rets = all_rets[:, i - lookback:i]\n",
    "        pred_rets = all_pred_rets[:, i]\n",
    "        next_rets = all_rets[:, i]\n",
    "        # solve\n",
    "        weights, exp_var = solveWeights(rets, pred_rets, **params)\n",
    "        # assert np.sum(weights) <= 1\n",
    "        weights /= max(np.sum(np.abs(weights)), 1)\n",
    "        port_rets = np.sum(next_rets * weights * net_value)\n",
    "        frac_return = port_rets / net_value\n",
    "        net_value += port_rets\n",
    "        backtest_res.append({\n",
    "            'period_ind': i,\n",
    "            'ret': port_rets,\n",
    "            'curr_portfolio': weights,\n",
    "            'exposure': np.sum(weights),\n",
    "            'net_value': net_value,\n",
    "            'expected_variance': exp_var,\n",
    "            'frac_return': frac_return,\n",
    "        })\n",
    "    brdf = pd.DataFrame(backtest_res)\n",
    "    sharpe = np.mean(brdf.frac_return) / np.std(brdf.frac_return)\n",
    "    return brdf, sharpe"
   ]
  },
  {
   "cell_type": "markdown",
   "id": "c3344cdb",
   "metadata": {},
   "source": [
    "### Model Testing\n",
    "\n",
    "We should try to test our functions as well as compare alphas and predictions to the professional forecasts as well as their general accuracies."
   ]
  },
  {
   "cell_type": "code",
   "execution_count": 173,
   "id": "8322897d",
   "metadata": {},
   "outputs": [],
   "source": [
    "all_rets, all_pred_rets1, all_pred_rets2, all_pred_rets3 = obtainReturns()\n",
    "\n",
    "# Select parameters\n",
    "test_params = {\n",
    "    \"lookback\" : 6,\n",
    "    \"EMA_eps\" : 0.01,\n",
    "    \"alpha_w\" : [0.7, 3], # weights for self preds and \"pro\" preds\n",
    "    \"pca_count\" : 1,\n",
    "    \"var_penalty\" : 0.5,\n",
    "    \"var_cap\" : 0.01,\n",
    "}"
   ]
  },
  {
   "cell_type": "code",
   "execution_count": 177,
   "id": "3dad72cf",
   "metadata": {},
   "outputs": [
    {
     "name": "stderr",
     "output_type": "stream",
     "text": [
      "  0%|                                                  | 0/2261 [00:00<?, ?it/s]/Users/kchang/opt/anaconda3/lib/python3.9/site-packages/scipy/optimize/_constraints.py:356: OptimizeWarning: Constraint options `finite_diff_jac_sparsity`, `finite_diff_rel_step`, `keep_feasible`, and `hess`are ignored by this method.\n",
      "  warn(\"Constraint options `finite_diff_jac_sparsity`, \"\n",
      "/Users/kchang/opt/anaconda3/lib/python3.9/site-packages/scipy/optimize/_numdiff.py:579: ComplexWarning: Casting complex values to real discards the imaginary part\n",
      "  J_transposed[i] = df / dx\n",
      "/Users/kchang/opt/anaconda3/lib/python3.9/site-packages/scipy/optimize/slsqp.py:427: ComplexWarning: Casting complex values to real discards the imaginary part\n",
      "  slsqp(m, meq, x, xl, xu, fx, c, g, a, acc, majiter, mode, w, jw,\n",
      "100%|███████████████████████████████████████| 2261/2261 [00:41<00:00, 54.12it/s]"
     ]
    },
    {
     "name": "stdout",
     "output_type": "stream",
     "text": [
      "1.6566134867371074\n"
     ]
    },
    {
     "name": "stderr",
     "output_type": "stream",
     "text": [
      "\n"
     ]
    }
   ],
   "source": [
    "brdf, sharpe = execute(252*9, all_rets, all_pred_rets1, **test_params)\n",
    "print((252 ** 0.5)*sharpe) # annualize"
   ]
  },
  {
   "cell_type": "code",
   "execution_count": 178,
   "id": "4cad6743",
   "metadata": {
    "scrolled": false
   },
   "outputs": [
    {
     "data": {
      "text/plain": [
       "Text(0.5, 0, 'days')"
      ]
     },
     "execution_count": 178,
     "metadata": {},
     "output_type": "execute_result"
    },
    {
     "data": {
      "image/png": "[encoded data removed]",
      "text/plain": [
       "<Figure size 720x540 with 1 Axes>"
      ]
     },
     "metadata": {
      "needs_background": "light"
     },
     "output_type": "display_data"
    }
   ],
   "source": [
    "plt.figure(figsize=(6, 4.5), dpi=120)\n",
    "plt.plot(brdf.net_value)\n",
    "plt.title('Scaled Net Value of Portfolio')\n",
    "plt.xlabel('days')"
   ]
  },
  {
   "cell_type": "markdown",
   "id": "3e288b38",
   "metadata": {},
   "source": [
    "### OLS Test (assumptions present)\n",
    "We will need to do multivariate OLS per asset (so out of 9). Question: what training set should we use?"
   ]
  },
  {
   "cell_type": "code",
   "execution_count": 149,
   "id": "8b603b4e",
   "metadata": {},
   "outputs": [
    {
     "name": "stdout",
     "output_type": "stream",
     "text": [
      "[[ 0.01581311  0.01581311  0.01581311]\n",
      " [-0.01234799 -0.01234799 -0.01234799]\n",
      " [ 0.00143602  0.00143602  0.00143602]\n",
      " [ 0.05683122  0.05683122  0.05683122]\n",
      " [-0.00510266 -0.00510266 -0.00510266]\n",
      " [ 0.05398255  0.05398255  0.05398255]\n",
      " [-0.00692854 -0.00692854 -0.00692854]\n",
      " [ 0.01030878  0.01030878  0.01030878]\n",
      " [-0.03103998 -0.03103998 -0.03103998]]\n",
      "1329.3522653137884\n"
     ]
    }
   ],
   "source": [
    "# get coeffs\n",
    "ols_pred_coeffs = []\n",
    "n_rets = all_rets.shape[1]\n",
    "max_day = 31\n",
    "train_idx = range(0, max_day)\n",
    "n_train = len(train_idx)\n",
    "\n",
    "all_pred_rets = np.zeros((all_rets.shape[0], n_rets))\n",
    "\n",
    "for asset in range(all_rets.shape[0]):\n",
    "    A = np.zeros((n_train, 3))\n",
    "    A[:, 0] = all_pred_rets1[asset, train_idx].T\n",
    "    A[:, 1] = all_pred_rets2[asset, train_idx].T\n",
    "    A[:, 2] = all_pred_rets3[asset, train_idx].T\n",
    "    b = all_rets[asset, train_idx].T\n",
    "    coeffs = np.linalg.lstsq(A, b, rcond=None)[0]\n",
    "    ols_pred_coeffs.append(coeffs)\n",
    "    Aa = np.zeros((n_rets, 3))\n",
    "    Aa[:, 0] = all_pred_rets1[asset, :].T\n",
    "    Aa[:, 1] = all_pred_rets2[asset, :].T\n",
    "    Aa[:, 2] = all_pred_rets3[asset, :].T\n",
    "    new_b = Aa @ coeffs\n",
    "    all_pred_rets[asset, :] = new_b.T\n",
    "ols_pred_coeffs = np.array(ols_pred_coeffs)\n",
    "print(ols_pred_coeffs)\n",
    "print(np.linalg.norm((all_pred_rets - all_rets)/all_rets))"
   ]
  },
  {
   "cell_type": "code",
   "execution_count": 176,
   "id": "4cd38980",
   "metadata": {
    "scrolled": false
   },
   "outputs": [
    {
     "data": {
      "text/plain": [
       "<matplotlib.legend.Legend at 0x7fae10d34670>"
      ]
     },
     "execution_count": 176,
     "metadata": {},
     "output_type": "execute_result"
    },
    {
     "data": {
      "image/png": "[encoded data removed]",
      "text/plain": [
       "<Figure size 720x540 with 1 Axes>"
      ]
     },
     "metadata": {
      "needs_background": "light"
     },
     "output_type": "display_data"
    }
   ],
   "source": [
    "plt.figure(figsize=(6, 4.5), dpi=120)\n",
    "plt.plot(all_rets[1, :700])\n",
    "plt.plot(all_pred_rets[1, :700])\n",
    "plt.plot(all_pred_rets1[1, :700])\n",
    "plt.title('Asset B returns')\n",
    "plt.xlabel('days')\n",
    "#plt.ylim([-0.01, 0.01])\n",
    "plt.legend(['Acutal', 'OLS', 'Pro1'])"
   ]
  },
  {
   "cell_type": "markdown",
   "id": "439689c2",
   "metadata": {},
   "source": [
    "Findings: Turns out, the professional predictions are made every 21 days and thus have 0 returns then. So, we should (linearly) interpolate all_pred_rets(x) between the 21 day periods, though even then, this seems fairly sus."
   ]
  },
  {
   "cell_type": "markdown",
   "id": "8ef204dd",
   "metadata": {},
   "source": [
    "### Param Search Framework"
   ]
  },
  {
   "cell_type": "code",
   "execution_count": 179,
   "id": "d655fd5b",
   "metadata": {},
   "outputs": [],
   "source": [
    "# Example:\n",
    "# List all hyperparams in the param dict under a list `param_order`\n",
    "# List the param space under `param_specs`\n",
    "param_order = ['lookback', 'EMA_eps', 'alpha_w', 'pca_count', 'var_penalty', 'var_cap']\n",
    "param_specs = {\n",
    "    \"lookback\" : [1, 2, 3, 4, 5, 6],\n",
    "    \"EMA_eps\" : [0.01],\n",
    "    \"alpha_w\" : [[0.7, 0.3]], # weights for self preds and \"pro\" preds\n",
    "    \"pca_count\" : [1],\n",
    "    \"var_penalty\" : [0.25, 0.5, 1, 1.5, 2, 4, 8],\n",
    "    \"var_cap\" : [0.01],\n",
    "}\n",
    "\n",
    "# functions to convert between testing integers and param dictionaries\n",
    "def toGridDict(testNum, gridSpecs, gridOrder):\n",
    "    \"\"\"\n",
    "    Converts a param search testing number to the corresponding param dictionary.\n",
    "    \"\"\"\n",
    "    paramDict = {}\n",
    "    for key in gridOrder:\n",
    "        n = len(gridSpecs[key])\n",
    "        rem = testNum % n\n",
    "        paramDict[key] = gridSpecs[key][int(rem)]\n",
    "        testNum = (testNum - rem) / n\n",
    "    return paramDict\n",
    "\n",
    "def toTestNum(paramDict, gridSpecs, gridOrder):\n",
    "    \"\"\"\n",
    "    Converts a param dictionary to the corresponding param testing number.\n",
    "    \"\"\"\n",
    "    testNum = 0\n",
    "    currBase = 1\n",
    "    for key in gridOrder:\n",
    "        testNum = testNum + currBase * gridSpecs[key].index(paramDict[key])\n",
    "        n = len(gridSpecs[key])\n",
    "        currBase = currBase * n\n",
    "    return testNum\n",
    "\n",
    "def maxTestNum(gridSpecs, gridOrder):\n",
    "    \"\"\"Returns |Theta| for param space Theta.\"\"\"\n",
    "    maxTests = 1\n",
    "    for key in gridOrder:\n",
    "        maxTests = maxTests * len(gridSpecs[key])\n",
    "    return maxTests"
   ]
  },
  {
   "cell_type": "code",
   "execution_count": 180,
   "id": "5c2a488f",
   "metadata": {},
   "outputs": [],
   "source": [
    "# functions to I/O param testing results from df to .csv\n",
    "# dataframe format for results should be test_idx, sharpe, \n",
    "# storing -1 as init. sharpe\n",
    "def initParamResultsDataframe(gridSpecs, gridOrder):\n",
    "    \"\"\"\n",
    "    Instantiates the dataframe to store results of param searching.\n",
    "    \"\"\"\n",
    "    maxTests = maxTestNum(gridSpecs, gridOrder)\n",
    "    initSharpe = [-1] * maxTests\n",
    "    initNetValue = [-1] * maxTests\n",
    "    initTestNum = range(maxTests)\n",
    "    paramDataDict = {\n",
    "        'test_idx' : initTestNum,\n",
    "        'sharpe' : initSharpe,\n",
    "    }\n",
    "    prdf = pd.DataFrame(paramDataDict, index=initTestNum)\n",
    "    return prdf\n",
    "\n",
    "def storeCurrentParamResults(paramfile_name, df):\n",
    "    \"\"\"\n",
    "    Stores current dataset in DataFrame to datafile_name.csv.\n",
    "    \"\"\"\n",
    "    file_str = paramfile_name + '.csv'\n",
    "    df.to_csv(file_str, index=False)\n",
    "    return ('Finished writing to ' + file_str)\n",
    "\n",
    "def readCurrentParamResults(paramfile_name, gridSpecs, gridOrder):\n",
    "    \"\"\"\n",
    "    Checks and reads paramfile_name.csv for a DataFrame of grid data and progress.\n",
    "    \"\"\"\n",
    "    file_str = paramfile_name + '.csv'\n",
    "    file_exists = os.path.exists(file_str)\n",
    "    assert file_exists, 'file does not exist!'\n",
    "    # if exists:\n",
    "    prdf = pd.read_csv(file_str)\n",
    "    maxTests = prdf.shape[0]\n",
    "    untested_indices = []\n",
    "    for i in range(maxTests):\n",
    "        if prdf.sharpe[i] == -1:\n",
    "            untested_indices.append(prdf.test_idx[i])\n",
    "    return prdf, untested_indices"
   ]
  },
  {
   "cell_type": "code",
   "execution_count": 189,
   "id": "ef0a2e66",
   "metadata": {},
   "outputs": [],
   "source": [
    "# perform backtesting on each passed in parameter set, then write\n",
    "def paramEvaluate(prdf, testIndList, search_rets, search_pred_rets, gridSpecs, gridOrder):\n",
    "    \"\"\"\n",
    "    Evaluate Sharpe Ratios of testing numbers in testNumList against file data.\n",
    "    \"\"\"\n",
    "    idx_lst = list(prdf['test_idx'])\n",
    "    for i in testIndList:\n",
    "        paramDict = toGridDict(i, gridSpecs, gridOrder)\n",
    "        max_time = search_rets.shape[1]\n",
    "        backtest_results, sharpe = execute(max_time, search_rets, search_pred_rets, **paramDict)\n",
    "        idx = idx_lst.index(i)\n",
    "        prdf['sharpe'].iat[idx] = sharpe * (252 ** 0.5)\n",
    "    return prdf"
   ]
  },
  {
   "cell_type": "code",
   "execution_count": 190,
   "id": "a0b45781",
   "metadata": {},
   "outputs": [
    {
     "data": {
      "text/plain": [
       "'Finished writing to full_psearch_0to3yr_1.csv'"
      ]
     },
     "execution_count": 190,
     "metadata": {},
     "output_type": "execute_result"
    }
   ],
   "source": [
    "# Setup\n",
    "pr_filename = 'full_psearch_0to3yr_1'\n",
    "test_period_idx = range(0, 252*3) # first 3 years\n",
    "search_rets = all_rets[:, test_period_idx]\n",
    "search_pred_rets = all_pred_rets[:, test_period_idx]\n",
    "\n",
    "param_order = ['lookback', 'EMA_eps', 'alpha_w', 'pca_count', 'var_penalty', 'var_cap']\n",
    "param_specs = {\n",
    "    \"lookback\" : [2, 3, 4, 5, 6],\n",
    "    \"EMA_eps\" : [0.01],\n",
    "    \"alpha_w\" : [[1, 0]], # weights for self preds and \"pro\" preds\n",
    "    \"pca_count\" : [1],\n",
    "    \"var_penalty\" : [0.25, 0.5, 1, 1.5, 2, 4, 8],\n",
    "    \"var_cap\" : [0.01],\n",
    "}\n",
    "\n",
    "prdf = initParamResultsDataframe(param_specs, param_order)\n",
    "storeCurrentParamResults(pr_filename, prdf)"
   ]
  },
  {
   "cell_type": "code",
   "execution_count": 191,
   "id": "3c08e910",
   "metadata": {},
   "outputs": [
    {
     "name": "stdout",
     "output_type": "stream",
     "text": [
      "35\n",
      "0\n"
     ]
    },
    {
     "name": "stderr",
     "output_type": "stream",
     "text": [
      "  2%|▋                                         | 12/753 [00:00<00:20, 36.53it/s]/var/folders/9t/n10tslw57h93x72dt0gjxt7h0000gn/T/ipykernel_36326/2638270963.py:21: RuntimeWarning: invalid value encountered in double_scalars\n",
      "  return w[:, :comp], np.sum(np.square(v[:comp]))/np.sum(np.square(v))\n",
      "100%|█████████████████████████████████████████| 753/753 [00:15<00:00, 47.58it/s]\n",
      "100%|█████████████████████████████████████████| 752/752 [00:13<00:00, 54.40it/s]\n",
      "100%|█████████████████████████████████████████| 751/751 [00:13<00:00, 55.91it/s]\n",
      "100%|█████████████████████████████████████████| 750/750 [00:13<00:00, 56.55it/s]\n",
      "100%|█████████████████████████████████████████| 749/749 [00:12<00:00, 58.08it/s]\n"
     ]
    },
    {
     "name": "stdout",
     "output_type": "stream",
     "text": [
      "1\n"
     ]
    },
    {
     "name": "stderr",
     "output_type": "stream",
     "text": [
      "100%|█████████████████████████████████████████| 753/753 [00:15<00:00, 47.32it/s]\n",
      "100%|█████████████████████████████████████████| 752/752 [00:13<00:00, 54.24it/s]\n",
      "100%|█████████████████████████████████████████| 751/751 [00:13<00:00, 53.70it/s]\n",
      "100%|█████████████████████████████████████████| 750/750 [00:13<00:00, 57.40it/s]\n",
      "100%|█████████████████████████████████████████| 749/749 [00:13<00:00, 57.55it/s]\n"
     ]
    },
    {
     "name": "stdout",
     "output_type": "stream",
     "text": [
      "2\n"
     ]
    },
    {
     "name": "stderr",
     "output_type": "stream",
     "text": [
      "100%|█████████████████████████████████████████| 753/753 [00:16<00:00, 46.33it/s]\n",
      "100%|█████████████████████████████████████████| 752/752 [00:14<00:00, 53.26it/s]\n",
      "100%|█████████████████████████████████████████| 751/751 [00:13<00:00, 57.27it/s]\n",
      "100%|█████████████████████████████████████████| 750/750 [00:13<00:00, 57.12it/s]\n",
      "100%|█████████████████████████████████████████| 749/749 [00:12<00:00, 57.99it/s]\n"
     ]
    },
    {
     "name": "stdout",
     "output_type": "stream",
     "text": [
      "3\n"
     ]
    },
    {
     "name": "stderr",
     "output_type": "stream",
     "text": [
      "100%|█████████████████████████████████████████| 753/753 [00:15<00:00, 48.11it/s]\n",
      "100%|█████████████████████████████████████████| 752/752 [00:13<00:00, 54.54it/s]\n",
      "100%|█████████████████████████████████████████| 751/751 [00:13<00:00, 54.26it/s]\n",
      "100%|█████████████████████████████████████████| 750/750 [00:12<00:00, 58.49it/s]\n",
      "100%|█████████████████████████████████████████| 749/749 [00:12<00:00, 57.85it/s]\n"
     ]
    },
    {
     "name": "stdout",
     "output_type": "stream",
     "text": [
      "4\n"
     ]
    },
    {
     "name": "stderr",
     "output_type": "stream",
     "text": [
      "100%|█████████████████████████████████████████| 753/753 [00:16<00:00, 46.42it/s]\n",
      "100%|█████████████████████████████████████████| 752/752 [00:14<00:00, 52.65it/s]\n",
      "100%|█████████████████████████████████████████| 751/751 [00:13<00:00, 54.45it/s]\n",
      "100%|█████████████████████████████████████████| 750/750 [00:13<00:00, 57.55it/s]\n",
      "100%|█████████████████████████████████████████| 749/749 [00:13<00:00, 54.14it/s]\n"
     ]
    },
    {
     "name": "stdout",
     "output_type": "stream",
     "text": [
      "5\n"
     ]
    },
    {
     "name": "stderr",
     "output_type": "stream",
     "text": [
      "100%|█████████████████████████████████████████| 753/753 [00:15<00:00, 48.52it/s]\n",
      "100%|█████████████████████████████████████████| 752/752 [00:13<00:00, 54.30it/s]\n",
      "100%|█████████████████████████████████████████| 751/751 [00:13<00:00, 56.17it/s]\n",
      "100%|█████████████████████████████████████████| 750/750 [00:13<00:00, 57.49it/s]\n",
      "100%|█████████████████████████████████████████| 749/749 [00:13<00:00, 57.56it/s]\n"
     ]
    },
    {
     "name": "stdout",
     "output_type": "stream",
     "text": [
      "6\n"
     ]
    },
    {
     "name": "stderr",
     "output_type": "stream",
     "text": [
      "100%|█████████████████████████████████████████| 753/753 [00:16<00:00, 46.36it/s]\n",
      "100%|█████████████████████████████████████████| 752/752 [00:13<00:00, 54.03it/s]\n",
      "100%|█████████████████████████████████████████| 751/751 [00:14<00:00, 52.53it/s]\n",
      "100%|█████████████████████████████████████████| 750/750 [00:13<00:00, 55.95it/s]\n",
      "100%|█████████████████████████████████████████| 749/749 [00:13<00:00, 54.03it/s]"
     ]
    },
    {
     "name": "stdout",
     "output_type": "stream",
     "text": [
      "Done.\n"
     ]
    },
    {
     "name": "stderr",
     "output_type": "stream",
     "text": [
      "\n"
     ]
    }
   ],
   "source": [
    "prdf, untested_indices = readCurrentParamResults(pr_filename, param_specs, param_order)\n",
    "print(len(untested_indices))\n",
    "\n",
    "for i in range(7):\n",
    "    print(i)\n",
    "    prdf, untested_indices = readCurrentParamResults(pr_filename, param_specs, param_order)\n",
    "    prdf = paramEvaluate(prdf, untested_indices[:5], search_rets, search_pred_rets, param_specs, param_order)\n",
    "    storeCurrentParamResults(pr_filename, prdf)\n",
    "    \n",
    "print('Done.')"
   ]
  },
  {
   "cell_type": "code",
   "execution_count": 187,
   "id": "f3ff9ea5",
   "metadata": {},
   "outputs": [
    {
     "name": "stdout",
     "output_type": "stream",
     "text": [
      "{'lookback': 4, 'EMA_eps': 0.01, 'alpha_w': [1, 0], 'pca_count': 1, 'var_penalty': 0.25, 'var_cap': 0.01}\n"
     ]
    }
   ],
   "source": [
    "print(toGridDict(2, param_specs, param_order))"
   ]
  },
  {
   "cell_type": "code",
   "execution_count": null,
   "id": "4c0029a7",
   "metadata": {},
   "outputs": [],
   "source": []
  }
 ],
 "metadata": {
  "kernelspec": {
   "display_name": "Python 3 (ipykernel)",
   "language": "python",
   "name": "python3"
  },
  "language_info": {
   "codemirror_mode": {
    "name": "ipython",
    "version": 3
   },
   "file_extension": ".py",
   "mimetype": "text/x-python",
   "name": "python",
   "nbconvert_exporter": "python",
   "pygments_lexer": "ipython3",
   "version": "3.9.7"
  }
 },
 "nbformat": 4,
 "nbformat_minor": 5
}
