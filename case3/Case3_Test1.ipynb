{
 "cells": [
  {
   "cell_type": "markdown",
   "id": "5de7a624",
   "metadata": {},
   "source": [
    "# Case 3 - Method Testing\n",
    "\n",
    "Here I provide a list of (possibly) usable functions for the third test case problem (portfolio allocation)."
   ]
  },
  {
   "cell_type": "code",
   "execution_count": 36,
   "id": "ed81e477",
   "metadata": {},
   "outputs": [],
   "source": [
    "import numpy as np\n",
    "from scipy.optimize import minimize, NonlinearConstraint\n",
    "import matplotlib.pyplot as plt\n",
    "%matplotlib inline\n",
    "\n",
    "from tqdm import tqdm\n",
    "import pandas as pd\n",
    "\n",
    "import os\n",
    "assert os.path.exists(\"Acutal Testing Data.csv\")\n",
    "\n",
    "# can't use sklearn rip, gotta self implement\n",
    "def pca(vec, comp=-1):\n",
    "    \"\"\"Perform PCA, output components + explained variance %\"\"\"\n",
    "    c_vec = vec - np.mean(vec, axis=0)\n",
    "    cov = np.cov(c_vec) / vec.shape[0]\n",
    "    v, w = np.linalg.eig(cov)\n",
    "    idx = v.argsort()[::-1] # Sort descending and get sorted indices\n",
    "    v = v[idx]\n",
    "    w = w[:,idx]\n",
    "    return w[:, :comp], np.sum(np.square(v[:comp]))/np.sum(np.square(v))"
   ]
  },
  {
   "cell_type": "code",
   "execution_count": 2,
   "id": "0481a076",
   "metadata": {},
   "outputs": [],
   "source": [
    "# (Hyper)parameter dict structure\n",
    "# this is used to streamline training / searching as well as make function defining more simple\n",
    "\n",
    "example_params = {\n",
    "    \"lookback\" : 3,\n",
    "    \"EMA_eps\" : 0.01,\n",
    "    \"alpha_w\" : [0.3, 0.7], # weights for self preds and \"pro\" preds\n",
    "    \"pca_count\" : 1,\n",
    "    \"var_penalty\" : 1,\n",
    "    \"var_cap\" : 0.01,\n",
    "}"
   ]
  },
  {
   "cell_type": "markdown",
   "id": "d0a4789d",
   "metadata": {},
   "source": [
    "### Function List\n",
    "\n",
    "Functions will need to pass a parameter dict of the above form."
   ]
  },
  {
   "cell_type": "code",
   "execution_count": 82,
   "id": "858065b9",
   "metadata": {},
   "outputs": [],
   "source": [
    "# Obtain returns and forecasted returns from I/O\n",
    "def obtainReturns():\n",
    "    \"\"\"\n",
    "    Return array structures, all_rets, and all_pred_rets\n",
    "    \"\"\"\n",
    "    atdf = pd.read_csv(\"Acutal Testing Data.csv\")\n",
    "    ptdf1 = pd.read_csv(\"Predicted Testing Data Analyst 1.csv\")\n",
    "    ptdf2 = pd.read_csv(\"Predicted Testing Data Analyst 1.csv\")\n",
    "    ptdf3 = pd.read_csv(\"Predicted Testing Data Analyst 1.csv\")\n",
    "    idx = ['A', 'B', 'C', 'D', 'E', 'F', 'G', 'H', 'I']\n",
    "    price = np.array([list(atdf[idx[i]]) for i in range(len(idx))])\n",
    "    price1 = np.array([list(ptdf1[idx[i]]) for i in range(len(idx))])\n",
    "    price2 = np.array([list(ptdf2[idx[i]]) for i in range(len(idx))])\n",
    "    price3 = np.array([list(ptdf3[idx[i]]) for i in range(len(idx))])\n",
    "    n = atdf.shape[0]\n",
    "    all_rets = (price[:, 1:] - price[:, :-1]) / price[:, :-1]\n",
    "    all_pred_rets1 = (price1[:, 1:] - price1[:, :-1]) / price1[:, :-1]\n",
    "    all_pred_rets2 = (price2[:, 1:] - price2[:, :-1]) / price2[:, :-1]\n",
    "    all_pred_rets3 = (price3[:, 1:] - price3[:, :-1]) / price3[:, :-1]\n",
    "    return all_rets, all_pred_rets1, all_pred_rets2, all_pred_rets3\n",
    "\n",
    "# Generate alphas from features and hyperparameters\n",
    "# Considered methods include EMA on a lookback period\n",
    "def getAlphas(rets, pred_rets, EMA_eps=0.01, alpha_w=[0.5, 0.5], **params):\n",
    "    \"\"\"\n",
    "    Returns an array of alphas, same size as input rets.\n",
    "    pred_rets should be a singular array of size # assets.\n",
    "    Also returns cov of initial alphas = pred. returns\n",
    "    \"\"\"\n",
    "    n = rets.shape[1]\n",
    "    per_weights = np.power(1.000 - EMA_eps, np.arange(n)[::-1])\n",
    "    EMA_rets = rets * np.expand_dims(per_weights, 0)\n",
    "    # perform EMA on given rets\n",
    "    self_alphas = EMA_rets.sum(axis=1)\n",
    "    weighted_alphas = self_alphas*alpha_w[0] + pred_rets*alpha_w[1]\n",
    "    return weighted_alphas, np.cov(rets)\n",
    "    \n",
    "# Generate market betas using PCA on alphas\n",
    "# We use these to try to control the market neutrality of the opt\n",
    "def getBetas(rets, pca_count=1, **params):\n",
    "    \"\"\"\n",
    "    Returns an array of betas with size = # assets in universe\n",
    "    \"\"\"\n",
    "    # standardize returns\n",
    "    stan_rets = rets - np.mean(rets, axis=1, keepdims=True)\n",
    "    stan_rets = stan_rets / np.std(stan_rets, axis=1, keepdims=True)\n",
    "    betas, expl_var = pca(stan_rets, pca_count)\n",
    "    betas = betas / np.sum(np.abs(betas))\n",
    "    return betas\n",
    "\n",
    "# Define utility function to optimize for weights\n",
    "def util_func(w, alphas, cov, var_penalty):\n",
    "    ER = np.sum(w*alphas)\n",
    "    var_factor = w.T @ cov @ w\n",
    "    \n",
    "    # change this to / to test other expression\n",
    "    return ER - (var_penalty*var_factor)\n",
    "\n",
    "# Solve optimization problem from features and hyperparameters\n",
    "def solveWeights(rets, pred_rets, var_penalty=1, var_cap=0.001, **params):\n",
    "    \"\"\"\n",
    "    Returns an array of weights with size = # assets in universe.\n",
    "    Also returns expected variance\n",
    "    \"\"\"\n",
    "    m = rets.shape[0]\n",
    "    alphas, cov_mat = getAlphas(rets, pred_rets, **params)\n",
    "    betas = getBetas(rets, **params)\n",
    "    \n",
    "    # define optimization problem using scipy\n",
    "    func = lambda x: util_func(x, alphas, cov_mat, var_penalty) # utility\n",
    "    init_x = [0.5/m for i in range(m)]\n",
    "    bnds = ((0, 1),) * m # nonnegative elementwise bounds on weights\n",
    "    portfolio_var = lambda x: x.T @ cov_mat @ x # portfolio variance\n",
    "    cum_betas = lambda x: np.sum(x*betas)\n",
    "    cons = (\n",
    "        NonlinearConstraint(cum_betas, 0, 0), # market neutrality\n",
    "        NonlinearConstraint(np.sum, 0, 1, keep_feasible=True), # weight allocation\n",
    "        NonlinearConstraint(portfolio_var, 0, var_cap), # hard variance cap\n",
    "    )\n",
    "    res = minimize(func, init_x, bounds=bnds, constraints=cons)\n",
    "    \n",
    "    weights = res.x\n",
    "    return weights, weights.T @ cov_mat @ weights\n",
    "\n",
    "# Overall timestepping process (for backtesting?)\n",
    "def execute(max_time, all_rets, all_pred_rets, lookback=3, **params):\n",
    "    \"\"\"\n",
    "    Returns a dataframe containing daily portfolio returns and\n",
    "    overall Sharpe\n",
    "    \"\"\"\n",
    "    periods = min(max_time, all_rets.shape[1])\n",
    "    net_value = 1.0\n",
    "    backtest_res = []\n",
    "    \n",
    "    # period - 1 since we do not make decision on last day \n",
    "    # nothing to compare forecast to\n",
    "    for i in tqdm(range(lookback, periods - 1)):\n",
    "        # obtain lookback data and current day\n",
    "        rets = all_rets[:, i - lookback:i]\n",
    "        pred_rets = all_pred_rets[:, i]\n",
    "        next_rets = all_rets[:, i]\n",
    "        # solve\n",
    "        weights, exp_var = solveWeights(rets, pred_rets, **params)\n",
    "        # assert np.sum(weights) <= 1\n",
    "        weights /= max(np.sum(weights), 1)\n",
    "        port_rets = np.sum(next_rets * weights * net_value)\n",
    "        frac_return = port_rets / net_value\n",
    "        net_value += port_rets\n",
    "        backtest_res.append({\n",
    "            'period_ind': i,\n",
    "            'ret': port_rets,\n",
    "            'curr_portfolio': weights,\n",
    "            'exposure': np.sum(weights),\n",
    "            'net_value': net_value,\n",
    "            'expected_variance': exp_var,\n",
    "            'frac_return': frac_return,\n",
    "        })\n",
    "    brdf = pd.DataFrame(backtest_res)\n",
    "    sharpe = np.mean(brdf.frac_return) / np.std(brdf.frac_return)\n",
    "    return brdf, sharpe"
   ]
  },
  {
   "cell_type": "markdown",
   "id": "f6418c14",
   "metadata": {},
   "source": [
    "### Model Testing\n",
    "\n",
    "We should try to test our functions as well as compare alphas and predictions to the professional forecasts as well as their general accuracies."
   ]
  },
  {
   "cell_type": "code",
   "execution_count": 110,
   "id": "c67ab1a9",
   "metadata": {},
   "outputs": [],
   "source": [
    "all_rets, all_pred_rets1, all_pred_rets2, all_pred_rets3 = obtainReturns()\n",
    "\n",
    "# Select parameters\n",
    "test_params = {\n",
    "    \"lookback\" : 6,\n",
    "    \"EMA_eps\" : 0.01,\n",
    "    \"alpha_w\" : [0.7, 0.3], # weights for self preds and \"pro\" preds\n",
    "    \"pca_count\" : 1,\n",
    "    \"var_penalty\" : 0.5,\n",
    "    \"var_cap\" : 0.01,\n",
    "}"
   ]
  },
  {
   "cell_type": "code",
   "execution_count": 113,
   "id": "9a08efd9",
   "metadata": {},
   "outputs": [
    {
     "name": "stderr",
     "output_type": "stream",
     "text": [
      "100%|███████████████████████████████████████| 2261/2261 [00:42<00:00, 53.35it/s]"
     ]
    },
    {
     "name": "stdout",
     "output_type": "stream",
     "text": [
      "1.6157521783334041\n"
     ]
    },
    {
     "name": "stderr",
     "output_type": "stream",
     "text": [
      "\n"
     ]
    }
   ],
   "source": [
    "brdf, sharpe = execute(252*9, all_rets, all_pred_rets1, **test_params)\n",
    "print((252 ** 0.5)*sharpe) # annualize"
   ]
  },
  {
   "cell_type": "code",
   "execution_count": 115,
   "id": "f422dd79",
   "metadata": {
    "scrolled": false
   },
   "outputs": [
    {
     "data": {
      "text/plain": [
       "Text(0.5, 0, 'days')"
      ]
     },
     "execution_count": 115,
     "metadata": {},
     "output_type": "execute_result"
    },
    {
     "data": {
      "image/png": "[encoded data removed]",
      "text/plain": [
       "<Figure size 720x540 with 1 Axes>"
      ]
     },
     "metadata": {
      "needs_background": "light"
     },
     "output_type": "display_data"
    }
   ],
   "source": [
    "plt.figure(figsize=(6, 4.5), dpi=120)\n",
    "plt.plot(brdf.net_value)\n",
    "plt.title('Scaled Net Value of Portfolio')\n",
    "plt.xlabel('days')"
   ]
  },
  {
   "cell_type": "markdown",
   "id": "79c6a11d",
   "metadata": {},
   "source": [
    "### Todo:\n",
    "From current alpha generation (alpha ~ sum(coeffs x predictions)), we can perform OLS on testing data to optimize coeffs for alpha to the known next value.\n",
    "\n",
    "Implement and test black litterman.\n",
    "\n",
    "Perform a param search on remaining hyperparams, particularly ones involved in optimization such as lookback and var penalty."
   ]
  },
  {
   "cell_type": "code",
   "execution_count": null,
   "id": "19e6a0f6",
   "metadata": {},
   "outputs": [],
   "source": []
  }
 ],
 "metadata": {
  "kernelspec": {
   "display_name": "Python 3 (ipykernel)",
   "language": "python",
   "name": "python3"
  },
  "language_info": {
   "codemirror_mode": {
    "name": "ipython",
    "version": 3
   },
   "file_extension": ".py",
   "mimetype": "text/x-python",
   "name": "python",
   "nbconvert_exporter": "python",
   "pygments_lexer": "ipython3",
   "version": "3.9.7"
  }
 },
 "nbformat": 4,
 "nbformat_minor": 5
}
