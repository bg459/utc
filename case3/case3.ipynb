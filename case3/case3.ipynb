{
 "cells": [
  {
   "cell_type": "code",
   "execution_count": 13,
   "metadata": {},
   "outputs": [],
   "source": [
    "import pandas as pd\n",
    "import scipy\n",
    "import numpy as np\n",
    "\n",
    "from allocate import allocate_portfolio"
   ]
  },
  {
   "cell_type": "code",
   "execution_count": 14,
   "metadata": {},
   "outputs": [],
   "source": [
    "pred1_df = pd.read_csv('Predicted Testing Data Analyst 1.csv')\n",
    "pred2_df = pd.read_csv('Predicted Testing Data Analyst 2.csv')\n",
    "pred3_df = pd.read_csv('Predicted Testing Data Analyst 3.csv')"
   ]
  },
  {
   "cell_type": "code",
   "execution_count": 15,
   "metadata": {},
   "outputs": [],
   "source": [
    "df = pd.read_csv('actual_testing_data.csv')"
   ]
  },
  {
   "cell_type": "code",
   "execution_count": 16,
   "metadata": {},
   "outputs": [
    {
     "name": "stdout",
     "output_type": "stream",
     "text": [
      "Index(['Unnamed: 0', 'A', 'B', 'C', 'D', 'E', 'F', 'G', 'H', 'I'], dtype='object')\n"
     ]
    }
   ],
   "source": [
    "print(df.columns)"
   ]
  },
  {
   "cell_type": "code",
   "execution_count": 17,
   "metadata": {},
   "outputs": [],
   "source": [
    "data = np.asarray([df[df.columns[i]] for i in range(1, len(df.columns))])\n",
    "pred1 = np.asarray([pred1_df[df.columns[i]] for i in range(1, len(df.columns))])\n",
    "pred2 = np.asarray([pred2_df[df.columns[i]] for i in range(1, len(df.columns))])\n",
    "pred3 = np.asarray([pred3_df[df.columns[i]] for i in range(1, len(df.columns))])"
   ]
  },
  {
   "cell_type": "code",
   "execution_count": 18,
   "metadata": {},
   "outputs": [
    {
     "name": "stdout",
     "output_type": "stream",
     "text": [
      "(9, 2509)\n"
     ]
    }
   ],
   "source": [
    "print(data.shape)"
   ]
  },
  {
   "cell_type": "code",
   "execution_count": 22,
   "metadata": {},
   "outputs": [
    {
     "name": "stdout",
     "output_type": "stream",
     "text": [
      "Sharpe ratio: 0.030964969906609806\n"
     ]
    }
   ],
   "source": [
    "rp = np.zeros((data.shape[1]))\n",
    "\n",
    "for i in range(1, data.shape[1]):\n",
    "    w = allocate_portfolio(data[:,i], pred1[:,i], pred2[:,i], pred3[:,i])\n",
    "\n",
    "    rp[i] = w.T @ (data[:,i]-data[:,i-1])\n",
    "\n",
    "print('Sharpe ratio: ' + str(np.mean(rp)/np.std(rp)))"
   ]
  }
 ],
 "metadata": {
  "interpreter": {
   "hash": "e6bb1179fe24d7f98c4e32b0b7a00db61e8d420684122338bc3163b163bca505"
  },
  "kernelspec": {
   "display_name": "Python 3.9.7 ('ml')",
   "language": "python",
   "name": "python3"
  },
  "language_info": {
   "codemirror_mode": {
    "name": "ipython",
    "version": 3
   },
   "file_extension": ".py",
   "mimetype": "text/x-python",
   "name": "python",
   "nbconvert_exporter": "python",
   "pygments_lexer": "ipython3",
   "version": "3.9.7"
  },
  "orig_nbformat": 4
 },
 "nbformat": 4,
 "nbformat_minor": 2
}
