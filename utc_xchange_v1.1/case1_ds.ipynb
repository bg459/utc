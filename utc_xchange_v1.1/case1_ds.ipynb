{
 "cells": [
  {
   "cell_type": "code",
   "execution_count": 1,
   "metadata": {},
   "outputs": [],
   "source": [
    "import pandas as pd\n",
    "import matplotlib.pyplot as plt\n",
    "import numpy as np\n",
    "import scipy\n",
    "\n",
    "from sklearn.linear_model import LinearRegression"
   ]
  },
  {
   "cell_type": "code",
   "execution_count": 2,
   "metadata": {},
   "outputs": [
    {
     "name": "stdout",
     "output_type": "stream",
     "text": [
      "(1512,)\n",
      "(72,)\n",
      "(1512,)\n"
     ]
    }
   ],
   "source": [
    "YEARS = [2016, 2017, 2018, 2019, 2020, 2021]\n",
    "\n",
    "yearly_prices = []\n",
    "yearly_rain = []\n",
    "yearly_rain_bd = []\n",
    "\n",
    "for year in YEARS:\n",
    "    prices_df = pd.read_csv('data/case1/prices_'+str(year)+'.csv')\n",
    "    rain_df = pd.read_csv('data/case1/rain_'+str(year)+'.csv')\n",
    "\n",
    "    prices = list(prices_df['Daily Price'])\n",
    "    rain = list(rain_df['Historical Monthly Rain'])\n",
    "\n",
    "    # yearly_prices.append(prices)\n",
    "    # yearly_rain.append(rain)\n",
    "    # yearly_rain_bd.append([rain[i // 21] for i in range(len(prices))])\n",
    "\n",
    "    yearly_prices += prices\n",
    "    yearly_rain += rain\n",
    "    yearly_rain_bd += [rain[i // 21] for i in range(len(prices))]\n",
    "\n",
    "prices = np.asarray(yearly_prices)\n",
    "rain = np.asarray(yearly_rain)\n",
    "rain_bd = np.asarray(yearly_rain_bd)\n",
    "\n",
    "print(prices.shape)\n",
    "print(rain.shape)\n",
    "print(rain_bd.shape)"
   ]
  },
  {
   "cell_type": "code",
   "execution_count": 3,
   "metadata": {},
   "outputs": [
    {
     "name": "stdout",
     "output_type": "stream",
     "text": [
      "(1512,)\n"
     ]
    }
   ],
   "source": [
    "rain_ma = []\n",
    "# for i in range(len(YEARS)):\n",
    "#     rain_ma.append(np.convolve(rain_bd[i],np.ones(42,dtype=int),'same'))\n",
    "rain_ma = np.convolve(rain_bd, np.ones(21,dtype=int),'same')\n",
    "\n",
    "rain_ma = np.asarray(rain_ma)\n",
    "print(rain_ma.shape)"
   ]
  },
  {
   "cell_type": "code",
   "execution_count": 4,
   "metadata": {},
   "outputs": [
    {
     "data": {
      "text/plain": [
       "<matplotlib.collections.PathCollection at 0x7f88a260d550>"
      ]
     },
     "execution_count": 4,
     "metadata": {},
     "output_type": "execute_result"
    },
    {
     "data": {
      "image/png": "[encoded data removed]",
      "text/plain": [
       "<Figure size 432x288 with 1 Axes>"
      ]
     },
     "metadata": {
      "needs_background": "light"
     },
     "output_type": "display_data"
    }
   ],
   "source": [
    "# for i in range(len(yearly_prices)):\n",
    "#     plt.scatter(rain_ma[i], yearly_prices[i])\n",
    "plt.scatter(rain_ma, prices)"
   ]
  },
  {
   "cell_type": "code",
   "execution_count": 5,
   "metadata": {},
   "outputs": [],
   "source": [
    "def generate_windows(window_size):\n",
    "\n",
    "    n = len(rain) - window_size + 1\n",
    "\n",
    "    X = np.zeros((n, window_size))\n",
    "    y = np.zeros(n)\n",
    "\n",
    "    for i in range(n):\n",
    "        X[i] = rain[i:i+window_size]\n",
    "        y[i] = np.mean(prices[21*i:21*(i+1)])\n",
    "    \n",
    "    return X, y"
   ]
  },
  {
   "cell_type": "code",
   "execution_count": 6,
   "metadata": {},
   "outputs": [
    {
     "name": "stdout",
     "output_type": "stream",
     "text": [
      "2\n",
      "(71, 2)\n",
      "0.11219411527391898\n",
      "3\n",
      "(70, 3)\n",
      "0.11770272700904971\n",
      "4\n",
      "(69, 4)\n",
      "0.11246167932243711\n",
      "5\n",
      "(68, 5)\n",
      "0.11440348250931143\n",
      "6\n",
      "(67, 6)\n",
      "0.12578597697285288\n",
      "7\n",
      "(66, 7)\n",
      "0.12353327154004701\n",
      "8\n",
      "(65, 8)\n",
      "0.12196256340221578\n",
      "9\n",
      "(64, 9)\n",
      "0.12249580517175984\n",
      "10\n",
      "(63, 10)\n",
      "0.12943927868503513\n",
      "11\n",
      "(62, 11)\n",
      "0.14334246817150864\n",
      "12\n",
      "(61, 12)\n",
      "0.1381743142955565\n",
      "13\n",
      "(60, 13)\n",
      "0.13230574741390666\n",
      "14\n",
      "(59, 14)\n",
      "0.16884654607938676\n",
      "15\n",
      "(58, 15)\n",
      "0.19658998329170296\n",
      "16\n",
      "(57, 16)\n",
      "0.23135479469226639\n",
      "17\n",
      "(56, 17)\n",
      "0.20453221735146665\n",
      "18\n",
      "(55, 18)\n",
      "0.21065199068983376\n",
      "19\n",
      "(54, 19)\n",
      "0.22575433393742284\n"
     ]
    }
   ],
   "source": [
    "for i in range(2, 20):\n",
    "    X, y = generate_windows(i)\n",
    "    reg = LinearRegression()\n",
    "    reg.fit(X, y)\n",
    "    print(i)\n",
    "    print(X.shape)\n",
    "    print(reg.score(X, y)) "
   ]
  },
  {
   "cell_type": "code",
   "execution_count": 9,
   "metadata": {},
   "outputs": [
    {
     "name": "stdout",
     "output_type": "stream",
     "text": [
      "0.11770272700904971\n",
      "[ 2.2790961  -0.08148768  0.07962164]\n",
      "204.064623223388\n"
     ]
    }
   ],
   "source": [
    "X, y = generate_windows(3)\n",
    "reg = LinearRegression()\n",
    "reg.fit(X, y)\n",
    "print(reg.score(X, y))\n",
    "print(reg.coef_)\n",
    "print(reg.intercept_)"
   ]
  },
  {
   "cell_type": "code",
   "execution_count": 10,
   "metadata": {},
   "outputs": [
    {
     "name": "stdout",
     "output_type": "stream",
     "text": [
      "0.12578597697285288\n",
      "[ 2.1531901  -0.10836614 -0.03793308  0.13202504  0.30395066  0.7634381 ]\n",
      "184.36226605192425\n",
      "[13.82 17.22 17.35 20.63 33.41 20.02] 229.4242857142857\n"
     ]
    }
   ],
   "source": [
    "X, y = generate_windows(6)\n",
    "reg = LinearRegression()\n",
    "reg.fit(X, y)\n",
    "print(reg.score(X, y))\n",
    "print(reg.coef_)\n",
    "print(reg.intercept_)\n",
    "print(X[0], y[0])"
   ]
  },
  {
   "cell_type": "code",
   "execution_count": 11,
   "metadata": {},
   "outputs": [
    {
     "name": "stdout",
     "output_type": "stream",
     "text": [
      "(0.3366117549711163, 2.2474095003895096e-41)\n"
     ]
    }
   ],
   "source": [
    "print(scipy.stats.pearsonr(rain_bd, prices))"
   ]
  },
  {
   "cell_type": "code",
   "execution_count": 12,
   "metadata": {},
   "outputs": [
    {
     "name": "stdout",
     "output_type": "stream",
     "text": [
      "SpearmanrResult(correlation=0.3904239393596906, pvalue=3.100922352760803e-56)\n"
     ]
    }
   ],
   "source": [
    "print(scipy.stats.spearmanr(rain_bd, prices))"
   ]
  }
 ],
 "metadata": {
  "interpreter": {
   "hash": "e6bb1179fe24d7f98c4e32b0b7a00db61e8d420684122338bc3163b163bca505"
  },
  "kernelspec": {
   "display_name": "Python 3.9.7 ('ml')",
   "language": "python",
   "name": "python3"
  },
  "language_info": {
   "codemirror_mode": {
    "name": "ipython",
    "version": 3
   },
   "file_extension": ".py",
   "mimetype": "text/x-python",
   "name": "python",
   "nbconvert_exporter": "python",
   "pygments_lexer": "ipython3",
   "version": "3.9.7"
  },
  "orig_nbformat": 4
 },
 "nbformat": 4,
 "nbformat_minor": 2
}
